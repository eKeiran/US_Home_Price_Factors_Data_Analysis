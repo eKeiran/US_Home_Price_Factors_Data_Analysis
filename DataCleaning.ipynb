{
 "cells": [
  {
   "cell_type": "code",
   "execution_count": 7,
   "id": "4f2923b4-4c13-4d49-b959-288c6d4d1035",
   "metadata": {},
   "outputs": [
    {
     "name": "stdout",
     "output_type": "stream",
     "text": [
      "Processed and saved target to CleanData\\target.csv\n",
      "Processed and saved population to CleanData\\population.csv\n",
      "Processed and saved income to CleanData\\income.csv\n",
      "Processed and saved gdp to CleanData\\gdp.csv\n",
      "Processed and saved unemployed_rate to CleanData\\unemployed_rate.csv\n",
      "Processed and saved mortgage_rate to CleanData\\mortgage_rate.csv\n",
      "Processed and saved emratio to CleanData\\emratio.csv\n",
      "Processed and saved permit to CleanData\\permit.csv\n",
      "Processed and saved new_private_house to CleanData\\new_private_house.csv\n",
      "Processed and saved new_private_hw_under to CleanData\\new_private_hw_under.csv\n",
      "Processed and saved labor_percent to CleanData\\labor_percent.csv\n",
      "Processed and saved monthly_supply to CleanData\\monthly_supply.csv\n"
     ]
    },
    {
     "name": "stderr",
     "output_type": "stream",
     "text": [
      "C:\\Users\\harle\\AppData\\Local\\Temp\\ipykernel_19060\\3211898771.py:11: FutureWarning: 'M' is deprecated and will be removed in a future version, please use 'ME' instead.\n",
      "  df = df.resample('M').ffill()\n",
      "C:\\Users\\harle\\AppData\\Local\\Temp\\ipykernel_19060\\3211898771.py:11: FutureWarning: 'M' is deprecated and will be removed in a future version, please use 'ME' instead.\n",
      "  df = df.resample('M').ffill()\n"
     ]
    },
    {
     "name": "stdout",
     "output_type": "stream",
     "text": [
      "Processed and saved house_st to CleanData\\house_st.csv\n",
      "Processed and saved MSPUS to CleanData\\MSPUS.csv\n",
      "Processed and saved PPI_Cement to CleanData\\PPI_Cement.csv\n",
      "Processed and saved PPI_Concrete to CleanData\\PPI_Concrete.csv\n",
      "Processed and saved all_const_emp to CleanData\\all_const_emp.csv\n",
      "Processed and saved total_emp_cons to CleanData\\total_emp_cons.csv\n",
      "Processed and saved IPI_Cement to CleanData\\IPI_Cement.csv\n",
      "Processed and saved personal_saving_rate to CleanData\\personal_saving_rate.csv\n",
      "Processed and saved home_ow_rate to CleanData\\home_ow_rate.csv\n"
     ]
    },
    {
     "name": "stderr",
     "output_type": "stream",
     "text": [
      "C:\\Users\\harle\\AppData\\Local\\Temp\\ipykernel_19060\\3211898771.py:11: FutureWarning: 'M' is deprecated and will be removed in a future version, please use 'ME' instead.\n",
      "  df = df.resample('M').ffill()\n"
     ]
    }
   ],
   "source": [
    "import pandas as pd\n",
    "import os\n",
    "\n",
    "def process_and_save_csv(file_path, new_col_name, date_col='DATE', date_format='%Y-%m-%d', date_range=(\"1987-01-01\", \"2023-07-01\"), resample=False):\n",
    "    df = pd.read_csv(file_path)\n",
    "    df.set_index(date_col, inplace=True)\n",
    "    df.index = pd.to_datetime(df.index, format=date_format)\n",
    "    df.rename(columns={df.columns[0]: new_col_name}, inplace=True)\n",
    "    \n",
    "    if resample:\n",
    "        df = df.resample('M').ffill()\n",
    "        df.index = df.index.map(lambda x: x.replace(day=1))\n",
    "    \n",
    "    df = df[date_range[0]:date_range[1]]\n",
    "    output_path = os.path.join(\"CleanData\", f\"{new_col_name}.csv\")\n",
    "    df.to_csv(output_path)\n",
    "    print(f\"Processed and saved {new_col_name} to {output_path}\")\n",
    "    return df\n",
    "\n",
    "directory_path = \"CleanData\"\n",
    "os.makedirs(directory_path, exist_ok=True)\n",
    "\n",
    "datasets = [\n",
    "    (\"Data/CSUSHPINSA.csv\", \"target\"),\n",
    "    (\"Data/POPTHM.csv\", \"population\"),\n",
    "    (\"Data/PI.csv\", \"income\"),\n",
    "    (\"Data/GDP.csv\", \"gdp\", True),\n",
    "    (\"Data/UNRATE.csv\", \"unemployed_rate\"),\n",
    "    (\"Data/MORTGAGE30US.csv\", \"mortgage_rate\"),\n",
    "    (\"Data/EMRATIO.csv\", \"emratio\"),\n",
    "    (\"Data/PERMIT.csv\", \"permit\"),\n",
    "    (\"Data/COMPUTSA.csv\", \"new_private_house\"),\n",
    "    (\"Data/UNDCONTSA.csv\", \"new_private_hw_under\"),\n",
    "    (\"Data/CIVPART.csv\", \"labor_percent\"),\n",
    "    (\"Data/MSACSR.csv\", \"monthly_supply\"),\n",
    "    (\"Data/HOUST.csv\", \"house_st\"),\n",
    "    (\"Data/MSPUS.csv\", \"MSPUS\", True),\n",
    "    (\"Data/PCU327310327310.csv\", \"PPI_Cement\"),\n",
    "    (\"Data/PCU32733132733106.csv\", \"PPI_Concrete\"),\n",
    "    (\"Data/CES2023610001.csv\", \"all_const_emp\"),\n",
    "    (\"Data/USCONS.csv\", \"total_emp_cons\"),\n",
    "    (\"Data/IPN32731S.csv\", \"IPI_Cement\"),\n",
    "    (\"Data/PSAVERT.csv\", \"personal_saving_rate\"),\n",
    "    (\"Data/RSAHORUSQ156S.csv\", \"home_ow_rate\", True)\n",
    "]\n",
    "\n",
    "for dataset in datasets:\n",
    "    resample = dataset[2] if len(dataset) > 2 else False\n",
    "    process_and_save_csv(dataset[0], dataset[1], resample=resample)\n"
   ]
  }
 ],
 "metadata": {
  "kernelspec": {
   "display_name": "Python 3 (ipykernel)",
   "language": "python",
   "name": "python3"
  },
  "language_info": {
   "codemirror_mode": {
    "name": "ipython",
    "version": 3
   },
   "file_extension": ".py",
   "mimetype": "text/x-python",
   "name": "python",
   "nbconvert_exporter": "python",
   "pygments_lexer": "ipython3",
   "version": "3.12.4"
  }
 },
 "nbformat": 4,
 "nbformat_minor": 5
}
